{
 "cells": [
  {
   "cell_type": "markdown",
   "id": "3d5e5452",
   "metadata": {},
   "source": [
    "# this is my numpy ex"
   ]
  },
  {
   "cell_type": "code",
   "execution_count": 1,
   "id": "cc01b605",
   "metadata": {},
   "outputs": [],
   "source": [
    "import numpy as np"
   ]
  },
  {
   "cell_type": "code",
   "execution_count": 2,
   "id": "a7639404",
   "metadata": {},
   "outputs": [
    {
     "name": "stdout",
     "output_type": "stream",
     "text": [
      "4\n"
     ]
    }
   ],
   "source": [
    "a=np.array([7,9,3,5,3])\n",
    "print(a.itemsize)"
   ]
  },
  {
   "cell_type": "code",
   "execution_count": 3,
   "id": "eea9b9b0",
   "metadata": {},
   "outputs": [
    {
     "name": "stdout",
     "output_type": "stream",
     "text": [
      "(2, 5)\n"
     ]
    }
   ],
   "source": [
    "a=np.array([[7,9,3,5,3],[5,3,2,7,6]])\n",
    "print(a.shape)"
   ]
  },
  {
   "cell_type": "code",
   "execution_count": 33,
   "id": "39df83c5",
   "metadata": {},
   "outputs": [
    {
     "data": {
      "text/plain": [
       "array([[7, 9, 3, 5],\n",
       "       [3, 3, 5, 3],\n",
       "       [2, 7, 6, 2]])"
      ]
     },
     "execution_count": 33,
     "metadata": {},
     "output_type": "execute_result"
    }
   ],
   "source": [
    "a=np.array([[7,9,3,5,3,3],[5,3,2,7,6,2]])\n",
    "a=a.reshape(3,4)\n",
    "a"
   ]
  },
  {
   "cell_type": "code",
   "execution_count": 1,
   "id": "868f64fc",
   "metadata": {},
   "outputs": [
    {
     "ename": "NameError",
     "evalue": "name 'np' is not defined",
     "output_type": "error",
     "traceback": [
      "\u001b[1;31m---------------------------------------------------------------------------\u001b[0m",
      "\u001b[1;31mNameError\u001b[0m                                 Traceback (most recent call last)",
      "\u001b[1;32m~\\AppData\\Local\\Temp\\ipykernel_6552\\1046197355.py\u001b[0m in \u001b[0;36m<module>\u001b[1;34m\u001b[0m\n\u001b[1;32m----> 1\u001b[1;33m \u001b[0ma\u001b[0m\u001b[1;33m=\u001b[0m\u001b[0mnp\u001b[0m\u001b[1;33m.\u001b[0m\u001b[0marray\u001b[0m\u001b[1;33m(\u001b[0m\u001b[1;33m[\u001b[0m\u001b[1;33m[\u001b[0m\u001b[1;36m7\u001b[0m\u001b[1;33m,\u001b[0m\u001b[1;36m9\u001b[0m\u001b[1;33m,\u001b[0m\u001b[1;36m3\u001b[0m\u001b[1;33m,\u001b[0m\u001b[1;36m5\u001b[0m\u001b[1;33m,\u001b[0m\u001b[1;36m3\u001b[0m\u001b[1;33m,\u001b[0m\u001b[1;36m3\u001b[0m\u001b[1;33m]\u001b[0m\u001b[1;33m,\u001b[0m\u001b[1;33m[\u001b[0m\u001b[1;36m5\u001b[0m\u001b[1;33m,\u001b[0m\u001b[1;36m3\u001b[0m\u001b[1;33m,\u001b[0m\u001b[1;36m2\u001b[0m\u001b[1;33m,\u001b[0m\u001b[1;36m7\u001b[0m\u001b[1;33m,\u001b[0m\u001b[1;36m6\u001b[0m\u001b[1;33m,\u001b[0m\u001b[1;36m2\u001b[0m\u001b[1;33m]\u001b[0m\u001b[1;33m,\u001b[0m\u001b[1;33m[\u001b[0m\u001b[1;36m8\u001b[0m\u001b[1;33m,\u001b[0m\u001b[1;36m6\u001b[0m\u001b[1;33m,\u001b[0m\u001b[1;36m1\u001b[0m\u001b[1;33m,\u001b[0m\u001b[1;36m3\u001b[0m\u001b[1;33m,\u001b[0m\u001b[1;36m8\u001b[0m\u001b[1;33m,\u001b[0m\u001b[1;36m2\u001b[0m\u001b[1;33m]\u001b[0m\u001b[1;33m]\u001b[0m\u001b[1;33m)\u001b[0m\u001b[1;33m\u001b[0m\u001b[1;33m\u001b[0m\u001b[0m\n\u001b[0m\u001b[0;32m      2\u001b[0m \u001b[0ma\u001b[0m\u001b[1;33m\u001b[0m\u001b[1;33m\u001b[0m\u001b[0m\n\u001b[0;32m      3\u001b[0m \u001b[0ma\u001b[0m\u001b[1;33m[\u001b[0m\u001b[1;36m1\u001b[0m\u001b[1;33m:\u001b[0m\u001b[1;36m4\u001b[0m\u001b[1;33m,\u001b[0m\u001b[1;36m2\u001b[0m\u001b[1;33m:\u001b[0m\u001b[1;36m6\u001b[0m\u001b[1;33m]\u001b[0m\u001b[1;33m\u001b[0m\u001b[1;33m\u001b[0m\u001b[0m\n\u001b[0;32m      4\u001b[0m \u001b[1;31m#a[1:3,1:4]\u001b[0m\u001b[1;33m\u001b[0m\u001b[1;33m\u001b[0m\u001b[1;33m\u001b[0m\u001b[0m\n",
      "\u001b[1;31mNameError\u001b[0m: name 'np' is not defined"
     ]
    }
   ],
   "source": [
    "a=np.array([[7,9,3,5,3,3],[5,3,2,7,6,2],[8,6,1,3,8,2]])\n",
    "a\n",
    "a[1:4,2:6]\n",
    "#a[1:3,1:4]"
   ]
  },
  {
   "cell_type": "code",
   "execution_count": 6,
   "id": "d84366a6",
   "metadata": {},
   "outputs": [
    {
     "data": {
      "text/plain": [
       "array([[7, 9, 3, 5, 3, 3],\n",
       "       [5, 3, 2, 7, 6, 2],\n",
       "       [8, 6, 1, 3, 8, 2]])"
      ]
     },
     "execution_count": 6,
     "metadata": {},
     "output_type": "execute_result"
    }
   ],
   "source": [
    "a"
   ]
  },
  {
   "cell_type": "code",
   "execution_count": 44,
   "id": "84f49276",
   "metadata": {},
   "outputs": [
    {
     "data": {
      "text/plain": [
       "array([20, 18,  6, 15, 17,  7])"
      ]
     },
     "execution_count": 44,
     "metadata": {},
     "output_type": "execute_result"
    }
   ],
   "source": [
    "a.sum(axis=0)"
   ]
  },
  {
   "cell_type": "code",
   "execution_count": 8,
   "id": "5c92c24d",
   "metadata": {},
   "outputs": [
    {
     "data": {
      "text/plain": [
       "array([[2.64575131, 3.        , 1.73205081, 2.23606798, 1.73205081,\n",
       "        1.73205081],\n",
       "       [2.23606798, 1.73205081, 1.41421356, 2.64575131, 2.44948974,\n",
       "        1.41421356],\n",
       "       [2.82842712, 2.44948974, 1.        , 1.73205081, 2.82842712,\n",
       "        1.41421356]])"
      ]
     },
     "execution_count": 8,
     "metadata": {},
     "output_type": "execute_result"
    }
   ],
   "source": [
    "np.sqrt(a)"
   ]
  },
  {
   "cell_type": "code",
   "execution_count": 9,
   "id": "25e5bf69",
   "metadata": {},
   "outputs": [
    {
     "data": {
      "text/plain": [
       "2.4069087802704967"
      ]
     },
     "execution_count": 9,
     "metadata": {},
     "output_type": "execute_result"
    }
   ],
   "source": [
    "np.std(a)"
   ]
  },
  {
   "cell_type": "code",
   "execution_count": 10,
   "id": "5d410f2a",
   "metadata": {},
   "outputs": [
    {
     "data": {
      "text/plain": [
       "array([[19, 15, 35, 14, 11,  4],\n",
       "       [17, 14,  7, 25, 10,  4]])"
      ]
     },
     "execution_count": 10,
     "metadata": {},
     "output_type": "execute_result"
    }
   ],
   "source": [
    "a=np.array([[7,9,3,5,3,3],[5,3,2,7,6,2]])\n",
    "b=np.array([[12,6,32,9,8,1],[12,11,5,18,4,2]])\n",
    "a+b"
   ]
  },
  {
   "cell_type": "code",
   "execution_count": 46,
   "id": "35743910",
   "metadata": {},
   "outputs": [
    {
     "data": {
      "text/plain": [
       "array([[ 84,  54,  96,  45,  24,   3],\n",
       "       [ 60,  33,  10, 126,  24,   4]])"
      ]
     },
     "execution_count": 46,
     "metadata": {},
     "output_type": "execute_result"
    }
   ],
   "source": [
    "a=np.array([[7,9,3,5,3,3],[5,3,2,7,6,2]])\n",
    "b=np.array([[12,6,32,9,8,1],[12,11,5,18,4,2]])\n",
    "a*b"
   ]
  },
  {
   "cell_type": "code",
   "execution_count": 11,
   "id": "bb70cd98",
   "metadata": {},
   "outputs": [
    {
     "data": {
      "text/plain": [
       "array([[ 7,  9,  3,  5,  3,  3, 12,  6, 32,  9,  8,  1],\n",
       "       [ 5,  3,  2,  7,  6,  2, 12, 11,  5, 18,  4,  2]])"
      ]
     },
     "execution_count": 11,
     "metadata": {},
     "output_type": "execute_result"
    }
   ],
   "source": [
    "a=np.array([[7,9,3,5,3,3],[5,3,2,7,6,2]])\n",
    "b=np.array([[12,6,32,9,8,1],[12,11,5,18,4,2]])\n",
    "c=np.hstack((a,b))\n",
    "c"
   ]
  },
  {
   "cell_type": "code",
   "execution_count": 47,
   "id": "2242343b",
   "metadata": {},
   "outputs": [
    {
     "data": {
      "text/plain": [
       "array([[ 7,  9,  3,  5,  3,  3],\n",
       "       [ 5,  3,  2,  7,  6,  2],\n",
       "       [12,  6, 32,  9,  8,  1],\n",
       "       [12, 11,  5, 18,  4,  2]])"
      ]
     },
     "execution_count": 47,
     "metadata": {},
     "output_type": "execute_result"
    }
   ],
   "source": [
    "a=np.array([[7,9,3,5,3,3],[5,3,2,7,6,2]])\n",
    "b=np.array([[12,6,32,9,8,1],[12,11,5,18,4,2]])\n",
    "c=np.vstack((a,b))\n",
    "c"
   ]
  },
  {
   "cell_type": "code",
   "execution_count": 12,
   "id": "11dd1749",
   "metadata": {},
   "outputs": [
    {
     "data": {
      "text/plain": [
       "array([[ 7,  9,  3,  5,  3,  3, 12,  6, 32,  9,  8,  1],\n",
       "       [ 5,  3,  2,  7,  6,  2, 12, 11,  5, 18,  4,  2]])"
      ]
     },
     "execution_count": 12,
     "metadata": {},
     "output_type": "execute_result"
    }
   ],
   "source": [
    "c"
   ]
  },
  {
   "cell_type": "code",
   "execution_count": 49,
   "id": "78ffb5ad",
   "metadata": {},
   "outputs": [
    {
     "data": {
      "text/plain": [
       "array([[ 7,  9,  3,  5,  3,  3, 12,  6, 32,  9,  8,  1],\n",
       "       [ 5,  3,  2,  7,  6,  2, 12, 11,  5, 18,  4,  2]])"
      ]
     },
     "execution_count": 49,
     "metadata": {},
     "output_type": "execute_result"
    }
   ],
   "source": [
    "a=np.array([[7,9,3,5,3,3],[5,3,2,7,6,2]])\n",
    "b=np.array([[12,6,32,9,8,1],[12,11,5,18,4,2]])\n",
    "c=np.concatenate((a,b),axis=1)\n",
    "c"
   ]
  },
  {
   "cell_type": "code",
   "execution_count": 50,
   "id": "e8ded196",
   "metadata": {},
   "outputs": [
    {
     "data": {
      "text/plain": [
       "array([[ 7,  9,  3,  5,  3,  3],\n",
       "       [ 5,  3,  2,  7,  6,  2],\n",
       "       [12,  6, 32,  9,  8,  1],\n",
       "       [12, 11,  5, 18,  4,  2]])"
      ]
     },
     "execution_count": 50,
     "metadata": {},
     "output_type": "execute_result"
    }
   ],
   "source": [
    "a=np.array([[7,9,3,5,3,3],[5,3,2,7,6,2]])\n",
    "b=np.array([[12,6,32,9,8,1],[12,11,5,18,4,2]])\n",
    "c=np.concatenate((a,b),axis=0)\n",
    "c"
   ]
  },
  {
   "cell_type": "code",
   "execution_count": 60,
   "id": "d74d5b17",
   "metadata": {},
   "outputs": [
    {
     "data": {
      "text/plain": [
       "[array([ 2,  8,  9, 12, 31,  4,  5]), array([17, 22,  9,  1, 23, 55])]"
      ]
     },
     "execution_count": 60,
     "metadata": {},
     "output_type": "execute_result"
    }
   ],
   "source": [
    "a=np.array([2,8,9,12,31,4,5,17,22,9,1,23,55])\n",
    "b=np.array_split(a,2)\n",
    "b"
   ]
  },
  {
   "cell_type": "code",
   "execution_count": 55,
   "id": "6f791673",
   "metadata": {},
   "outputs": [
    {
     "data": {
      "text/plain": [
       "[array([[ 2,  8,  9, 12, 31,  4]]), array([[ 5, 17, 22,  9,  1, 23]])]"
      ]
     },
     "execution_count": 55,
     "metadata": {},
     "output_type": "execute_result"
    }
   ],
   "source": [
    "a=np.array([[2,8,9,12,31,4,5,17,22,9,1,23]])\n",
    "\n",
    "k=np.hsplit(a,2)\n",
    "k"
   ]
  },
  {
   "cell_type": "code",
   "execution_count": 59,
   "id": "797e74c6",
   "metadata": {},
   "outputs": [
    {
     "data": {
      "text/plain": [
       "[array([[ 2,  8,  9, 12, 31,  4,  5, 17, 22,  9,  1, 23]]),\n",
       " array([], shape=(0, 12), dtype=int32),\n",
       " array([], shape=(0, 12), dtype=int32)]"
      ]
     },
     "execution_count": 59,
     "metadata": {},
     "output_type": "execute_result"
    }
   ],
   "source": [
    "a=np.array([[2,8,9,12,31,4,5,17,22,9,1,23]])\n",
    "\n",
    "k=np.vsplit(a,(3,4))\n",
    "k"
   ]
  },
  {
   "cell_type": "code",
   "execution_count": 16,
   "id": "c9c58960",
   "metadata": {},
   "outputs": [
    {
     "data": {
      "text/plain": [
       "(array([ 0,  1,  3,  5,  8, 11], dtype=int64),)"
      ]
     },
     "execution_count": 16,
     "metadata": {},
     "output_type": "execute_result"
    }
   ],
   "source": [
    "a=np.array([2,8,9,12,31,4,5,17,22,9,1,4,23])\n",
    "b=np.where(a%2==0)\n",
    "b"
   ]
  },
  {
   "cell_type": "code",
   "execution_count": 17,
   "id": "3c8dcfeb",
   "metadata": {},
   "outputs": [
    {
     "data": {
      "text/plain": [
       "(array([0, 1, 7, 8, 9], dtype=int64),)"
      ]
     },
     "execution_count": 17,
     "metadata": {},
     "output_type": "execute_result"
    }
   ],
   "source": [
    "mark=np.array([25,24,52,65,36,78,54,12,21,31,65])\n",
    "fail_rollno=np.where(mark<35)\n",
    "fail_rollno"
   ]
  },
  {
   "cell_type": "code",
   "execution_count": 18,
   "id": "0693bda8",
   "metadata": {},
   "outputs": [
    {
     "name": "stdout",
     "output_type": "stream",
     "text": [
      "the roll no of students who get top mark:- [ 5 11]\n"
     ]
    }
   ],
   "source": [
    "mark=np.array([25,24,52,65,36,78,54,12,21,31,65,78])\n",
    "\n",
    "\n",
    "first_mark_roll_no=np.where(mark==max(mark))\n",
    "print(\"the roll no of students who get top mark:-\",first_mark_roll_no[0])"
   ]
  },
  {
   "cell_type": "code",
   "execution_count": 19,
   "id": "13f077d1",
   "metadata": {},
   "outputs": [
    {
     "name": "stdout",
     "output_type": "stream",
     "text": [
      "[[3 3 3 5 7 9]\n",
      " [2 2 3 5 6 7]]\n"
     ]
    }
   ],
   "source": [
    "a=np.array([[7,9,3,5,3,3],[5,3,2,7,6,2]])\n",
    "print(np.sort(a))"
   ]
  },
  {
   "cell_type": "code",
   "execution_count": 20,
   "id": "59b3a860",
   "metadata": {},
   "outputs": [
    {
     "name": "stdout",
     "output_type": "stream",
     "text": [
      "[False False  True  True  True  True  True False False False  True  True]\n",
      "[52 65 36 78 54 65 78]\n"
     ]
    }
   ],
   "source": [
    "mark=np.array([25,24,52,65,36,78,54,12,21,31,65,78])\n",
    "\n",
    "p=mark>35\n",
    "\n",
    "print(p)\n",
    "pass_mark=mark[p]\n",
    "\n",
    "print(pass_mark)"
   ]
  },
  {
   "cell_type": "code",
   "execution_count": 21,
   "id": "80d92f28",
   "metadata": {},
   "outputs": [
    {
     "name": "stdout",
     "output_type": "stream",
     "text": [
      "[4 5 6]\n"
     ]
    }
   ],
   "source": [
    "a=np.array([4,5,6,8])\n",
    "\n",
    "\n",
    "\n",
    "b=a[[True,True,True,False]]\n",
    "\n",
    "print(b)"
   ]
  },
  {
   "cell_type": "code",
   "execution_count": 22,
   "id": "a3d60ebf",
   "metadata": {},
   "outputs": [
    {
     "name": "stdout",
     "output_type": "stream",
     "text": [
      "[11  2  9]\n"
     ]
    }
   ],
   "source": [
    "c=np.array([11,4,7,2,9])\n",
    "\n",
    "d=c[[True,False,False,True,True]]\n",
    "print(d)\n"
   ]
  },
  {
   "cell_type": "code",
   "execution_count": 23,
   "id": "ad1da7c0",
   "metadata": {},
   "outputs": [
    {
     "name": "stdout",
     "output_type": "stream",
     "text": [
      "[24 52 36 78 54 12 78]\n"
     ]
    }
   ],
   "source": [
    "mark=np.array([25,24,52,65,36,78,54,12,21,31,65,78])\n",
    "\n",
    "con=mark%2==0\n",
    "\n",
    "ans=mark[con]\n",
    "print(ans)"
   ]
  },
  {
   "cell_type": "code",
   "execution_count": 24,
   "id": "8a11d4b4",
   "metadata": {},
   "outputs": [
    {
     "name": "stdout",
     "output_type": "stream",
     "text": [
      "[24 52 36 78 54 12 78]\n"
     ]
    }
   ],
   "source": [
    "mark=np.array([25,24,52,65,36,78,54,12,21,31,65,78])\n",
    "\n",
    "con=[]\n",
    "\n",
    "for x in mark:\n",
    "    if x%2==0:\n",
    "        con.append(True)\n",
    "        \n",
    "    else:\n",
    "        con.append(False)\n",
    "        \n",
    "        \n",
    "ans=mark[con]\n",
    "print(ans)"
   ]
  },
  {
   "cell_type": "code",
   "execution_count": 1,
   "id": "6c9a9caf",
   "metadata": {},
   "outputs": [
    {
     "name": "stdout",
     "output_type": "stream",
     "text": [
      "[[ 18  48  62  33  87  26  89  42  29  98]\n",
      " [ 91 100  37  57  47  90  21  14  70  52]\n",
      " [ 23  23 100  72  47  25  35  49  85  85]\n",
      " [ 56  84  86  54  26  88  49  10  12  41]\n",
      " [ 21  18  17  20  54  14  51  37  67  20]]\n"
     ]
    }
   ],
   "source": [
    "from numpy import random \n",
    "\n",
    "x=random.randint(10,101,size=(5,10))\n",
    "\n",
    "print(x)"
   ]
  },
  {
   "cell_type": "code",
   "execution_count": 26,
   "id": "24177dd7",
   "metadata": {},
   "outputs": [
    {
     "name": "stdout",
     "output_type": "stream",
     "text": [
      "[[0.7063716  0.49728928 0.59476    0.81178921 0.06170293 0.1735858\n",
      "  0.67212382 0.3319209  0.7188644  0.40027441]\n",
      " [0.2992856  0.9297628  0.51378164 0.95691601 0.53339014 0.72272253\n",
      "  0.06018825 0.73167929 0.08639884 0.96986236]\n",
      " [0.22464562 0.38257065 0.67348373 0.5275299  0.9958317  0.71548287\n",
      "  0.19649402 0.78492352 0.23435171 0.7872738 ]\n",
      " [0.69029062 0.38541135 0.96770825 0.10744443 0.22664467 0.97961541\n",
      "  0.71674844 0.4798215  0.81527076 0.72916929]\n",
      " [0.00199214 0.46879078 0.60755313 0.02134723 0.5596739  0.31643777\n",
      "  0.88815424 0.6614984  0.05662414 0.57188256]]\n"
     ]
    }
   ],
   "source": [
    "x=random.rand(5,10)\n",
    "print(x)"
   ]
  },
  {
   "cell_type": "code",
   "execution_count": 68,
   "id": "0c1993a7",
   "metadata": {},
   "outputs": [
    {
     "name": "stdout",
     "output_type": "stream",
     "text": [
      "[['Palvi' 'Avantika' 'Avantika' 'Palvi' 'Avantika']\n",
      " ['paramjeet' 'Avantika' 'paramjeet' 'harvinder' 'deepika']\n",
      " ['paramjeet' 'paramjeet' 'deepika' 'harvinder' 'paramjeet']]\n"
     ]
    }
   ],
   "source": [
    "c=random.choice(['Avantika','deepika','Palvi','paramjeet','harvinder'],size=(3,5))\n",
    "print(c)"
   ]
  },
  {
   "cell_type": "code",
   "execution_count": 28,
   "id": "e2ea1a51",
   "metadata": {},
   "outputs": [
    {
     "name": "stdout",
     "output_type": "stream",
     "text": [
      "Your OTP to register/access CoWIN is  196005\n"
     ]
    }
   ],
   "source": [
    "otp=random.randint(100000,1000000)\n",
    "print(\"Your OTP to register/access CoWIN is \",otp)"
   ]
  },
  {
   "cell_type": "code",
   "execution_count": 8,
   "id": "dbb928d0",
   "metadata": {},
   "outputs": [
    {
     "name": "stdout",
     "output_type": "stream",
     "text": [
      "enter the day13\n",
      "enter sales100\n",
      "enter visitor200\n",
      "enter income1000\n",
      "enter expenses1500\n"
     ]
    },
    {
     "data": {
      "text/plain": [
       "{'day': ['13'],\n",
       " 'sales': ['100'],\n",
       " 'visitor': ['200'],\n",
       " 'income': ['1000'],\n",
       " 'expenses': ['1500']}"
      ]
     },
     "execution_count": 8,
     "metadata": {},
     "output_type": "execute_result"
    }
   ],
   "source": [
    "dat=input('enter the day')\n",
    "sal=input('enter sales')\n",
    "vis=input('enter visitor')\n",
    "inc=input('enter income') \n",
    "exp=input('enter expenses')\n",
    "value={'day':[dat],'sales':=[sal],'visitor':[vis],'income':[inc],'expenses':[exp]}"
   ]
  },
  {
   "cell_type": "code",
   "execution_count": 4,
   "id": "c1d77b2e",
   "metadata": {},
   "outputs": [],
   "source": [
    "shop=value.to_csv('Sanjana_sweets.csv',index='true')"
   ]
  },
  {
   "cell_type": "code",
   "execution_count": 6,
   "id": "dbfc79ee",
   "metadata": {},
   "outputs": [
    {
     "data": {
      "text/html": [
       "<div>\n",
       "<style scoped>\n",
       "    .dataframe tbody tr th:only-of-type {\n",
       "        vertical-align: middle;\n",
       "    }\n",
       "\n",
       "    .dataframe tbody tr th {\n",
       "        vertical-align: top;\n",
       "    }\n",
       "\n",
       "    .dataframe thead th {\n",
       "        text-align: right;\n",
       "    }\n",
       "</style>\n",
       "<table border=\"1\" class=\"dataframe\">\n",
       "  <thead>\n",
       "    <tr style=\"text-align: right;\">\n",
       "      <th></th>\n",
       "      <th>A</th>\n",
       "      <th>B</th>\n",
       "      <th>C</th>\n",
       "    </tr>\n",
       "  </thead>\n",
       "  <tbody>\n",
       "    <tr>\n",
       "      <th>0</th>\n",
       "      <td>0</td>\n",
       "      <td>0</td>\n",
       "      <td>0</td>\n",
       "    </tr>\n",
       "    <tr>\n",
       "      <th>1</th>\n",
       "      <td>1</td>\n",
       "      <td>1</td>\n",
       "      <td>1</td>\n",
       "    </tr>\n",
       "  </tbody>\n",
       "</table>\n",
       "</div>"
      ],
      "text/plain": [
       "   A  B  C\n",
       "0  0  0  0\n",
       "1  1  1  1"
      ]
     },
     "execution_count": 6,
     "metadata": {},
     "output_type": "execute_result"
    }
   ],
   "source": []
  },
  {
   "cell_type": "code",
   "execution_count": null,
   "id": "553c4315",
   "metadata": {},
   "outputs": [],
   "source": []
  }
 ],
 "metadata": {
  "kernelspec": {
   "display_name": "Python 3 (ipykernel)",
   "language": "python",
   "name": "python3"
  },
  "language_info": {
   "codemirror_mode": {
    "name": "ipython",
    "version": 3
   },
   "file_extension": ".py",
   "mimetype": "text/x-python",
   "name": "python",
   "nbconvert_exporter": "python",
   "pygments_lexer": "ipython3",
   "version": "3.7.4"
  }
 },
 "nbformat": 4,
 "nbformat_minor": 5
}
