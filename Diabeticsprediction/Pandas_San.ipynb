{
 "cells": [
  {
   "cell_type": "code",
   "execution_count": 1,
   "id": "145cf592",
   "metadata": {},
   "outputs": [],
   "source": [
    "import numpy as np \n",
    "import pandas as pd"
   ]
  },
  {
   "cell_type": "code",
   "execution_count": 2,
   "id": "a52f8b11",
   "metadata": {},
   "outputs": [
    {
     "data": {
      "text/plain": [
       "[1, 2, 3, 4, 5, 6, 7, 8, 9, 10]"
      ]
     },
     "execution_count": 2,
     "metadata": {},
     "output_type": "execute_result"
    }
   ],
   "source": [
    "from numpy import random\n",
    "day=list(range(1,11))\n",
    "day"
   ]
  },
  {
   "cell_type": "code",
   "execution_count": 3,
   "id": "11349c66",
   "metadata": {},
   "outputs": [
    {
     "name": "stdout",
     "output_type": "stream",
     "text": [
      "[281 257 246 315 215 392 233 297 322 389]\n"
     ]
    }
   ],
   "source": [
    "sales=random.randint(200,400, size=(10))\n",
    "print(sales)"
   ]
  },
  {
   "cell_type": "code",
   "execution_count": 4,
   "id": "edddc441",
   "metadata": {},
   "outputs": [
    {
     "name": "stdout",
     "output_type": "stream",
     "text": [
      "[array([252, 329, 308, 307, 349, 305, 229, 218, 330, 223])]\n"
     ]
    }
   ],
   "source": [
    "visitor=[random.randint(200,350,size=(10))]\n",
    "print(visitor)"
   ]
  },
  {
   "cell_type": "code",
   "execution_count": 5,
   "id": "2204ce94",
   "metadata": {},
   "outputs": [
    {
     "name": "stdout",
     "output_type": "stream",
     "text": [
      "{'Day': [1, 2, 3, 4, 5, 6, 7, 8, 9, 10], 'Sales': [383, 239, 249, 344, 362, 265, 390, 322, 252, 304], 'visitor': [202, 273, 255, 247, 306, 322, 224, 259, 240, 216]}\n"
     ]
    }
   ],
   "source": [
    "shop={'Day':[ 1, 2, 3, 4, 5, 6, 7, 8, 9, 10],'Sales':[383, 239 ,249 ,344, 362 ,265 ,390, 322 ,252, 304],'visitor':[202, 273, 255, 247, 306, 322, 224, 259, 240, 216]}\n",
    "print(shop)"
   ]
  },
  {
   "cell_type": "code",
   "execution_count": 6,
   "id": "5955c327",
   "metadata": {},
   "outputs": [],
   "source": [
    "data=pd.DataFrame(shop,index=['product a','product b','product c','product d','product e','product f','product g','product h','product i','product j'])"
   ]
  },
  {
   "cell_type": "code",
   "execution_count": 7,
   "id": "10f9174a",
   "metadata": {},
   "outputs": [
    {
     "data": {
      "text/html": [
       "<div>\n",
       "<style scoped>\n",
       "    .dataframe tbody tr th:only-of-type {\n",
       "        vertical-align: middle;\n",
       "    }\n",
       "\n",
       "    .dataframe tbody tr th {\n",
       "        vertical-align: top;\n",
       "    }\n",
       "\n",
       "    .dataframe thead th {\n",
       "        text-align: right;\n",
       "    }\n",
       "</style>\n",
       "<table border=\"1\" class=\"dataframe\">\n",
       "  <thead>\n",
       "    <tr style=\"text-align: right;\">\n",
       "      <th></th>\n",
       "      <th>Day</th>\n",
       "      <th>Sales</th>\n",
       "      <th>visitor</th>\n",
       "    </tr>\n",
       "  </thead>\n",
       "  <tbody>\n",
       "    <tr>\n",
       "      <th>product a</th>\n",
       "      <td>1</td>\n",
       "      <td>383</td>\n",
       "      <td>202</td>\n",
       "    </tr>\n",
       "    <tr>\n",
       "      <th>product b</th>\n",
       "      <td>2</td>\n",
       "      <td>239</td>\n",
       "      <td>273</td>\n",
       "    </tr>\n",
       "    <tr>\n",
       "      <th>product c</th>\n",
       "      <td>3</td>\n",
       "      <td>249</td>\n",
       "      <td>255</td>\n",
       "    </tr>\n",
       "    <tr>\n",
       "      <th>product d</th>\n",
       "      <td>4</td>\n",
       "      <td>344</td>\n",
       "      <td>247</td>\n",
       "    </tr>\n",
       "    <tr>\n",
       "      <th>product e</th>\n",
       "      <td>5</td>\n",
       "      <td>362</td>\n",
       "      <td>306</td>\n",
       "    </tr>\n",
       "    <tr>\n",
       "      <th>product f</th>\n",
       "      <td>6</td>\n",
       "      <td>265</td>\n",
       "      <td>322</td>\n",
       "    </tr>\n",
       "    <tr>\n",
       "      <th>product g</th>\n",
       "      <td>7</td>\n",
       "      <td>390</td>\n",
       "      <td>224</td>\n",
       "    </tr>\n",
       "    <tr>\n",
       "      <th>product h</th>\n",
       "      <td>8</td>\n",
       "      <td>322</td>\n",
       "      <td>259</td>\n",
       "    </tr>\n",
       "    <tr>\n",
       "      <th>product i</th>\n",
       "      <td>9</td>\n",
       "      <td>252</td>\n",
       "      <td>240</td>\n",
       "    </tr>\n",
       "    <tr>\n",
       "      <th>product j</th>\n",
       "      <td>10</td>\n",
       "      <td>304</td>\n",
       "      <td>216</td>\n",
       "    </tr>\n",
       "  </tbody>\n",
       "</table>\n",
       "</div>"
      ],
      "text/plain": [
       "           Day  Sales  visitor\n",
       "product a    1    383      202\n",
       "product b    2    239      273\n",
       "product c    3    249      255\n",
       "product d    4    344      247\n",
       "product e    5    362      306\n",
       "product f    6    265      322\n",
       "product g    7    390      224\n",
       "product h    8    322      259\n",
       "product i    9    252      240\n",
       "product j   10    304      216"
      ]
     },
     "execution_count": 7,
     "metadata": {},
     "output_type": "execute_result"
    }
   ],
   "source": [
    "data"
   ]
  },
  {
   "cell_type": "code",
   "execution_count": 8,
   "id": "adbcc9a3",
   "metadata": {},
   "outputs": [
    {
     "data": {
      "text/plain": [
       "product a     1\n",
       "product b     2\n",
       "product c     3\n",
       "product d     4\n",
       "product e     5\n",
       "product f     6\n",
       "product g     7\n",
       "product h     8\n",
       "product i     9\n",
       "product j    10\n",
       "Name: Day, dtype: int64"
      ]
     },
     "execution_count": 8,
     "metadata": {},
     "output_type": "execute_result"
    }
   ],
   "source": [
    "data['Day']"
   ]
  },
  {
   "cell_type": "code",
   "execution_count": 9,
   "id": "26b30b66",
   "metadata": {},
   "outputs": [
    {
     "data": {
      "text/plain": [
       "product a    383\n",
       "product b    239\n",
       "product c    249\n",
       "product d    344\n",
       "product e    362\n",
       "product f    265\n",
       "product g    390\n",
       "product h    322\n",
       "product i    252\n",
       "product j    304\n",
       "Name: Sales, dtype: int64"
      ]
     },
     "execution_count": 9,
     "metadata": {},
     "output_type": "execute_result"
    }
   ],
   "source": [
    "data['Sales']"
   ]
  },
  {
   "cell_type": "code",
   "execution_count": 10,
   "id": "9db64022",
   "metadata": {},
   "outputs": [
    {
     "data": {
      "text/plain": [
       "product a    202\n",
       "product b    273\n",
       "product c    255\n",
       "product d    247\n",
       "product e    306\n",
       "product f    322\n",
       "product g    224\n",
       "product h    259\n",
       "product i    240\n",
       "product j    216\n",
       "Name: visitor, dtype: int64"
      ]
     },
     "execution_count": 10,
     "metadata": {},
     "output_type": "execute_result"
    }
   ],
   "source": [
    "data['visitor']"
   ]
  },
  {
   "cell_type": "code",
   "execution_count": 11,
   "id": "d46d656d",
   "metadata": {},
   "outputs": [
    {
     "name": "stdout",
     "output_type": "stream",
     "text": [
      "{'income': [2000, 2500, 3300, 1900, 2000, 4000, 5600, 2900, 5000, 3000], 'expenses': [3000, 6800, 5247, 6745, 1457, 2785, 4897, 3565, 35676, 9877]}\n"
     ]
    }
   ],
   "source": [
    "incexp={'income':[2000,2500,3300,1900,2000,4000,5600,2900,5000,3000],'expenses':[3000,6800,5247,6745,1457,2785,4897,3565,35676,9877]}\n",
    "print(incexp)"
   ]
  },
  {
   "cell_type": "code",
   "execution_count": 12,
   "id": "79a0f378",
   "metadata": {},
   "outputs": [],
   "source": [
    "val=pd.DataFrame(incexp,index=['product a','product b','product c','product d','product e','product f','product g','product h','product i','product j'])"
   ]
  },
  {
   "cell_type": "code",
   "execution_count": 13,
   "id": "68b78a6c",
   "metadata": {},
   "outputs": [
    {
     "data": {
      "text/html": [
       "<div>\n",
       "<style scoped>\n",
       "    .dataframe tbody tr th:only-of-type {\n",
       "        vertical-align: middle;\n",
       "    }\n",
       "\n",
       "    .dataframe tbody tr th {\n",
       "        vertical-align: top;\n",
       "    }\n",
       "\n",
       "    .dataframe thead th {\n",
       "        text-align: right;\n",
       "    }\n",
       "</style>\n",
       "<table border=\"1\" class=\"dataframe\">\n",
       "  <thead>\n",
       "    <tr style=\"text-align: right;\">\n",
       "      <th></th>\n",
       "      <th>income</th>\n",
       "      <th>expenses</th>\n",
       "    </tr>\n",
       "  </thead>\n",
       "  <tbody>\n",
       "    <tr>\n",
       "      <th>product a</th>\n",
       "      <td>2000</td>\n",
       "      <td>3000</td>\n",
       "    </tr>\n",
       "    <tr>\n",
       "      <th>product b</th>\n",
       "      <td>2500</td>\n",
       "      <td>6800</td>\n",
       "    </tr>\n",
       "    <tr>\n",
       "      <th>product c</th>\n",
       "      <td>3300</td>\n",
       "      <td>5247</td>\n",
       "    </tr>\n",
       "    <tr>\n",
       "      <th>product d</th>\n",
       "      <td>1900</td>\n",
       "      <td>6745</td>\n",
       "    </tr>\n",
       "    <tr>\n",
       "      <th>product e</th>\n",
       "      <td>2000</td>\n",
       "      <td>1457</td>\n",
       "    </tr>\n",
       "    <tr>\n",
       "      <th>product f</th>\n",
       "      <td>4000</td>\n",
       "      <td>2785</td>\n",
       "    </tr>\n",
       "    <tr>\n",
       "      <th>product g</th>\n",
       "      <td>5600</td>\n",
       "      <td>4897</td>\n",
       "    </tr>\n",
       "    <tr>\n",
       "      <th>product h</th>\n",
       "      <td>2900</td>\n",
       "      <td>3565</td>\n",
       "    </tr>\n",
       "    <tr>\n",
       "      <th>product i</th>\n",
       "      <td>5000</td>\n",
       "      <td>35676</td>\n",
       "    </tr>\n",
       "    <tr>\n",
       "      <th>product j</th>\n",
       "      <td>3000</td>\n",
       "      <td>9877</td>\n",
       "    </tr>\n",
       "  </tbody>\n",
       "</table>\n",
       "</div>"
      ],
      "text/plain": [
       "           income  expenses\n",
       "product a    2000      3000\n",
       "product b    2500      6800\n",
       "product c    3300      5247\n",
       "product d    1900      6745\n",
       "product e    2000      1457\n",
       "product f    4000      2785\n",
       "product g    5600      4897\n",
       "product h    2900      3565\n",
       "product i    5000     35676\n",
       "product j    3000      9877"
      ]
     },
     "execution_count": 13,
     "metadata": {},
     "output_type": "execute_result"
    }
   ],
   "source": [
    "val"
   ]
  },
  {
   "cell_type": "code",
   "execution_count": 14,
   "id": "e78e5735",
   "metadata": {},
   "outputs": [],
   "source": [
    "stop=data.join(val)"
   ]
  },
  {
   "cell_type": "code",
   "execution_count": 15,
   "id": "a31f9afa",
   "metadata": {},
   "outputs": [
    {
     "data": {
      "text/html": [
       "<div>\n",
       "<style scoped>\n",
       "    .dataframe tbody tr th:only-of-type {\n",
       "        vertical-align: middle;\n",
       "    }\n",
       "\n",
       "    .dataframe tbody tr th {\n",
       "        vertical-align: top;\n",
       "    }\n",
       "\n",
       "    .dataframe thead th {\n",
       "        text-align: right;\n",
       "    }\n",
       "</style>\n",
       "<table border=\"1\" class=\"dataframe\">\n",
       "  <thead>\n",
       "    <tr style=\"text-align: right;\">\n",
       "      <th></th>\n",
       "      <th>Day</th>\n",
       "      <th>Sales</th>\n",
       "      <th>visitor</th>\n",
       "      <th>income</th>\n",
       "      <th>expenses</th>\n",
       "    </tr>\n",
       "  </thead>\n",
       "  <tbody>\n",
       "    <tr>\n",
       "      <th>product a</th>\n",
       "      <td>1</td>\n",
       "      <td>383</td>\n",
       "      <td>202</td>\n",
       "      <td>2000</td>\n",
       "      <td>3000</td>\n",
       "    </tr>\n",
       "    <tr>\n",
       "      <th>product b</th>\n",
       "      <td>2</td>\n",
       "      <td>239</td>\n",
       "      <td>273</td>\n",
       "      <td>2500</td>\n",
       "      <td>6800</td>\n",
       "    </tr>\n",
       "    <tr>\n",
       "      <th>product c</th>\n",
       "      <td>3</td>\n",
       "      <td>249</td>\n",
       "      <td>255</td>\n",
       "      <td>3300</td>\n",
       "      <td>5247</td>\n",
       "    </tr>\n",
       "    <tr>\n",
       "      <th>product d</th>\n",
       "      <td>4</td>\n",
       "      <td>344</td>\n",
       "      <td>247</td>\n",
       "      <td>1900</td>\n",
       "      <td>6745</td>\n",
       "    </tr>\n",
       "    <tr>\n",
       "      <th>product e</th>\n",
       "      <td>5</td>\n",
       "      <td>362</td>\n",
       "      <td>306</td>\n",
       "      <td>2000</td>\n",
       "      <td>1457</td>\n",
       "    </tr>\n",
       "    <tr>\n",
       "      <th>product f</th>\n",
       "      <td>6</td>\n",
       "      <td>265</td>\n",
       "      <td>322</td>\n",
       "      <td>4000</td>\n",
       "      <td>2785</td>\n",
       "    </tr>\n",
       "    <tr>\n",
       "      <th>product g</th>\n",
       "      <td>7</td>\n",
       "      <td>390</td>\n",
       "      <td>224</td>\n",
       "      <td>5600</td>\n",
       "      <td>4897</td>\n",
       "    </tr>\n",
       "    <tr>\n",
       "      <th>product h</th>\n",
       "      <td>8</td>\n",
       "      <td>322</td>\n",
       "      <td>259</td>\n",
       "      <td>2900</td>\n",
       "      <td>3565</td>\n",
       "    </tr>\n",
       "    <tr>\n",
       "      <th>product i</th>\n",
       "      <td>9</td>\n",
       "      <td>252</td>\n",
       "      <td>240</td>\n",
       "      <td>5000</td>\n",
       "      <td>35676</td>\n",
       "    </tr>\n",
       "    <tr>\n",
       "      <th>product j</th>\n",
       "      <td>10</td>\n",
       "      <td>304</td>\n",
       "      <td>216</td>\n",
       "      <td>3000</td>\n",
       "      <td>9877</td>\n",
       "    </tr>\n",
       "  </tbody>\n",
       "</table>\n",
       "</div>"
      ],
      "text/plain": [
       "           Day  Sales  visitor  income  expenses\n",
       "product a    1    383      202    2000      3000\n",
       "product b    2    239      273    2500      6800\n",
       "product c    3    249      255    3300      5247\n",
       "product d    4    344      247    1900      6745\n",
       "product e    5    362      306    2000      1457\n",
       "product f    6    265      322    4000      2785\n",
       "product g    7    390      224    5600      4897\n",
       "product h    8    322      259    2900      3565\n",
       "product i    9    252      240    5000     35676\n",
       "product j   10    304      216    3000      9877"
      ]
     },
     "execution_count": 15,
     "metadata": {},
     "output_type": "execute_result"
    }
   ],
   "source": [
    "stop"
   ]
  },
  {
   "cell_type": "code",
   "execution_count": 16,
   "id": "ed1a184b",
   "metadata": {},
   "outputs": [
    {
     "name": "stdout",
     "output_type": "stream",
     "text": [
      "{'Day': [11, 12], 'Sales': [383, 239], 'visitor': [202, 273], 'income': [2000, 2500], 'expenses': [3000, 6800]}\n"
     ]
    }
   ],
   "source": [
    "start={'Day':[11,12],'Sales':[383, 239],'visitor':[202, 273],'income':[2000,2500],'expenses':[3000,6800]}\n",
    "print(start)"
   ]
  },
  {
   "cell_type": "code",
   "execution_count": 17,
   "id": "35b19c99",
   "metadata": {},
   "outputs": [],
   "source": [
    "new=pd.DataFrame(start,index=['product k','product l'])"
   ]
  },
  {
   "cell_type": "code",
   "execution_count": 18,
   "id": "d34674b9",
   "metadata": {},
   "outputs": [
    {
     "data": {
      "text/html": [
       "<div>\n",
       "<style scoped>\n",
       "    .dataframe tbody tr th:only-of-type {\n",
       "        vertical-align: middle;\n",
       "    }\n",
       "\n",
       "    .dataframe tbody tr th {\n",
       "        vertical-align: top;\n",
       "    }\n",
       "\n",
       "    .dataframe thead th {\n",
       "        text-align: right;\n",
       "    }\n",
       "</style>\n",
       "<table border=\"1\" class=\"dataframe\">\n",
       "  <thead>\n",
       "    <tr style=\"text-align: right;\">\n",
       "      <th></th>\n",
       "      <th>Day</th>\n",
       "      <th>Sales</th>\n",
       "      <th>visitor</th>\n",
       "      <th>income</th>\n",
       "      <th>expenses</th>\n",
       "    </tr>\n",
       "  </thead>\n",
       "  <tbody>\n",
       "    <tr>\n",
       "      <th>product k</th>\n",
       "      <td>11</td>\n",
       "      <td>383</td>\n",
       "      <td>202</td>\n",
       "      <td>2000</td>\n",
       "      <td>3000</td>\n",
       "    </tr>\n",
       "    <tr>\n",
       "      <th>product l</th>\n",
       "      <td>12</td>\n",
       "      <td>239</td>\n",
       "      <td>273</td>\n",
       "      <td>2500</td>\n",
       "      <td>6800</td>\n",
       "    </tr>\n",
       "  </tbody>\n",
       "</table>\n",
       "</div>"
      ],
      "text/plain": [
       "           Day  Sales  visitor  income  expenses\n",
       "product k   11    383      202    2000      3000\n",
       "product l   12    239      273    2500      6800"
      ]
     },
     "execution_count": 18,
     "metadata": {},
     "output_type": "execute_result"
    }
   ],
   "source": [
    "new"
   ]
  },
  {
   "cell_type": "code",
   "execution_count": null,
   "id": "7333f1de",
   "metadata": {},
   "outputs": [],
   "source": []
  },
  {
   "cell_type": "code",
   "execution_count": 19,
   "id": "3081b648",
   "metadata": {},
   "outputs": [],
   "source": [
    "value=stop.append(new)"
   ]
  },
  {
   "cell_type": "code",
   "execution_count": 20,
   "id": "4dff7768",
   "metadata": {},
   "outputs": [
    {
     "data": {
      "text/html": [
       "<div>\n",
       "<style scoped>\n",
       "    .dataframe tbody tr th:only-of-type {\n",
       "        vertical-align: middle;\n",
       "    }\n",
       "\n",
       "    .dataframe tbody tr th {\n",
       "        vertical-align: top;\n",
       "    }\n",
       "\n",
       "    .dataframe thead th {\n",
       "        text-align: right;\n",
       "    }\n",
       "</style>\n",
       "<table border=\"1\" class=\"dataframe\">\n",
       "  <thead>\n",
       "    <tr style=\"text-align: right;\">\n",
       "      <th></th>\n",
       "      <th>Day</th>\n",
       "      <th>Sales</th>\n",
       "      <th>visitor</th>\n",
       "      <th>income</th>\n",
       "      <th>expenses</th>\n",
       "    </tr>\n",
       "  </thead>\n",
       "  <tbody>\n",
       "    <tr>\n",
       "      <th>product a</th>\n",
       "      <td>1</td>\n",
       "      <td>383</td>\n",
       "      <td>202</td>\n",
       "      <td>2000</td>\n",
       "      <td>3000</td>\n",
       "    </tr>\n",
       "    <tr>\n",
       "      <th>product b</th>\n",
       "      <td>2</td>\n",
       "      <td>239</td>\n",
       "      <td>273</td>\n",
       "      <td>2500</td>\n",
       "      <td>6800</td>\n",
       "    </tr>\n",
       "    <tr>\n",
       "      <th>product c</th>\n",
       "      <td>3</td>\n",
       "      <td>249</td>\n",
       "      <td>255</td>\n",
       "      <td>3300</td>\n",
       "      <td>5247</td>\n",
       "    </tr>\n",
       "    <tr>\n",
       "      <th>product d</th>\n",
       "      <td>4</td>\n",
       "      <td>344</td>\n",
       "      <td>247</td>\n",
       "      <td>1900</td>\n",
       "      <td>6745</td>\n",
       "    </tr>\n",
       "    <tr>\n",
       "      <th>product e</th>\n",
       "      <td>5</td>\n",
       "      <td>362</td>\n",
       "      <td>306</td>\n",
       "      <td>2000</td>\n",
       "      <td>1457</td>\n",
       "    </tr>\n",
       "    <tr>\n",
       "      <th>product f</th>\n",
       "      <td>6</td>\n",
       "      <td>265</td>\n",
       "      <td>322</td>\n",
       "      <td>4000</td>\n",
       "      <td>2785</td>\n",
       "    </tr>\n",
       "    <tr>\n",
       "      <th>product g</th>\n",
       "      <td>7</td>\n",
       "      <td>390</td>\n",
       "      <td>224</td>\n",
       "      <td>5600</td>\n",
       "      <td>4897</td>\n",
       "    </tr>\n",
       "    <tr>\n",
       "      <th>product h</th>\n",
       "      <td>8</td>\n",
       "      <td>322</td>\n",
       "      <td>259</td>\n",
       "      <td>2900</td>\n",
       "      <td>3565</td>\n",
       "    </tr>\n",
       "    <tr>\n",
       "      <th>product i</th>\n",
       "      <td>9</td>\n",
       "      <td>252</td>\n",
       "      <td>240</td>\n",
       "      <td>5000</td>\n",
       "      <td>35676</td>\n",
       "    </tr>\n",
       "    <tr>\n",
       "      <th>product j</th>\n",
       "      <td>10</td>\n",
       "      <td>304</td>\n",
       "      <td>216</td>\n",
       "      <td>3000</td>\n",
       "      <td>9877</td>\n",
       "    </tr>\n",
       "    <tr>\n",
       "      <th>product k</th>\n",
       "      <td>11</td>\n",
       "      <td>383</td>\n",
       "      <td>202</td>\n",
       "      <td>2000</td>\n",
       "      <td>3000</td>\n",
       "    </tr>\n",
       "    <tr>\n",
       "      <th>product l</th>\n",
       "      <td>12</td>\n",
       "      <td>239</td>\n",
       "      <td>273</td>\n",
       "      <td>2500</td>\n",
       "      <td>6800</td>\n",
       "    </tr>\n",
       "  </tbody>\n",
       "</table>\n",
       "</div>"
      ],
      "text/plain": [
       "           Day  Sales  visitor  income  expenses\n",
       "product a    1    383      202    2000      3000\n",
       "product b    2    239      273    2500      6800\n",
       "product c    3    249      255    3300      5247\n",
       "product d    4    344      247    1900      6745\n",
       "product e    5    362      306    2000      1457\n",
       "product f    6    265      322    4000      2785\n",
       "product g    7    390      224    5600      4897\n",
       "product h    8    322      259    2900      3565\n",
       "product i    9    252      240    5000     35676\n",
       "product j   10    304      216    3000      9877\n",
       "product k   11    383      202    2000      3000\n",
       "product l   12    239      273    2500      6800"
      ]
     },
     "execution_count": 20,
     "metadata": {},
     "output_type": "execute_result"
    }
   ],
   "source": [
    "value"
   ]
  },
  {
   "cell_type": "code",
   "execution_count": null,
   "id": "727bc845",
   "metadata": {},
   "outputs": [],
   "source": []
  },
  {
   "cell_type": "code",
   "execution_count": 22,
   "id": "fbf298ae",
   "metadata": {},
   "outputs": [
    {
     "data": {
      "text/plain": [
       "Day            4\n",
       "Sales        344\n",
       "visitor      247\n",
       "income      1900\n",
       "expenses    6745\n",
       "Name: product d, dtype: int64"
      ]
     },
     "execution_count": 22,
     "metadata": {},
     "output_type": "execute_result"
    }
   ],
   "source": [
    "value.loc['product d']"
   ]
  },
  {
   "cell_type": "code",
   "execution_count": 23,
   "id": "9ccd4f7d",
   "metadata": {},
   "outputs": [
    {
     "data": {
      "text/plain": [
       "239"
      ]
     },
     "execution_count": 23,
     "metadata": {},
     "output_type": "execute_result"
    }
   ],
   "source": [
    "min(value['Sales'])"
   ]
  },
  {
   "cell_type": "code",
   "execution_count": 24,
   "id": "d9917848",
   "metadata": {},
   "outputs": [
    {
     "data": {
      "text/plain": [
       "390"
      ]
     },
     "execution_count": 24,
     "metadata": {},
     "output_type": "execute_result"
    }
   ],
   "source": [
    "max(value['Sales'])"
   ]
  },
  {
   "cell_type": "code",
   "execution_count": 25,
   "id": "e750ff9d",
   "metadata": {},
   "outputs": [
    {
     "data": {
      "text/html": [
       "<div>\n",
       "<style scoped>\n",
       "    .dataframe tbody tr th:only-of-type {\n",
       "        vertical-align: middle;\n",
       "    }\n",
       "\n",
       "    .dataframe tbody tr th {\n",
       "        vertical-align: top;\n",
       "    }\n",
       "\n",
       "    .dataframe thead th {\n",
       "        text-align: right;\n",
       "    }\n",
       "</style>\n",
       "<table border=\"1\" class=\"dataframe\">\n",
       "  <thead>\n",
       "    <tr style=\"text-align: right;\">\n",
       "      <th></th>\n",
       "      <th>Day</th>\n",
       "      <th>Sales</th>\n",
       "      <th>visitor</th>\n",
       "      <th>income</th>\n",
       "      <th>expenses</th>\n",
       "    </tr>\n",
       "  </thead>\n",
       "  <tbody>\n",
       "    <tr>\n",
       "      <th>count</th>\n",
       "      <td>12.000000</td>\n",
       "      <td>12.000000</td>\n",
       "      <td>12.000000</td>\n",
       "      <td>12.000000</td>\n",
       "      <td>12.000000</td>\n",
       "    </tr>\n",
       "    <tr>\n",
       "      <th>mean</th>\n",
       "      <td>6.500000</td>\n",
       "      <td>311.000000</td>\n",
       "      <td>251.583333</td>\n",
       "      <td>3058.333333</td>\n",
       "      <td>7487.416667</td>\n",
       "    </tr>\n",
       "    <tr>\n",
       "      <th>std</th>\n",
       "      <td>3.605551</td>\n",
       "      <td>60.511456</td>\n",
       "      <td>38.141980</td>\n",
       "      <td>1225.826870</td>\n",
       "      <td>9183.335435</td>\n",
       "    </tr>\n",
       "    <tr>\n",
       "      <th>min</th>\n",
       "      <td>1.000000</td>\n",
       "      <td>239.000000</td>\n",
       "      <td>202.000000</td>\n",
       "      <td>1900.000000</td>\n",
       "      <td>1457.000000</td>\n",
       "    </tr>\n",
       "    <tr>\n",
       "      <th>25%</th>\n",
       "      <td>3.750000</td>\n",
       "      <td>251.250000</td>\n",
       "      <td>222.000000</td>\n",
       "      <td>2000.000000</td>\n",
       "      <td>3000.000000</td>\n",
       "    </tr>\n",
       "    <tr>\n",
       "      <th>50%</th>\n",
       "      <td>6.500000</td>\n",
       "      <td>313.000000</td>\n",
       "      <td>251.000000</td>\n",
       "      <td>2700.000000</td>\n",
       "      <td>5072.000000</td>\n",
       "    </tr>\n",
       "    <tr>\n",
       "      <th>75%</th>\n",
       "      <td>9.250000</td>\n",
       "      <td>367.250000</td>\n",
       "      <td>273.000000</td>\n",
       "      <td>3475.000000</td>\n",
       "      <td>6800.000000</td>\n",
       "    </tr>\n",
       "    <tr>\n",
       "      <th>max</th>\n",
       "      <td>12.000000</td>\n",
       "      <td>390.000000</td>\n",
       "      <td>322.000000</td>\n",
       "      <td>5600.000000</td>\n",
       "      <td>35676.000000</td>\n",
       "    </tr>\n",
       "  </tbody>\n",
       "</table>\n",
       "</div>"
      ],
      "text/plain": [
       "             Day       Sales     visitor       income      expenses\n",
       "count  12.000000   12.000000   12.000000    12.000000     12.000000\n",
       "mean    6.500000  311.000000  251.583333  3058.333333   7487.416667\n",
       "std     3.605551   60.511456   38.141980  1225.826870   9183.335435\n",
       "min     1.000000  239.000000  202.000000  1900.000000   1457.000000\n",
       "25%     3.750000  251.250000  222.000000  2000.000000   3000.000000\n",
       "50%     6.500000  313.000000  251.000000  2700.000000   5072.000000\n",
       "75%     9.250000  367.250000  273.000000  3475.000000   6800.000000\n",
       "max    12.000000  390.000000  322.000000  5600.000000  35676.000000"
      ]
     },
     "execution_count": 25,
     "metadata": {},
     "output_type": "execute_result"
    }
   ],
   "source": [
    "value.describe()"
   ]
  },
  {
   "cell_type": "code",
   "execution_count": 26,
   "id": "448e8c3e",
   "metadata": {},
   "outputs": [
    {
     "name": "stdout",
     "output_type": "stream",
     "text": [
      "<class 'pandas.core.frame.DataFrame'>\n",
      "Index: 12 entries, product a to product l\n",
      "Data columns (total 5 columns):\n",
      " #   Column    Non-Null Count  Dtype\n",
      "---  ------    --------------  -----\n",
      " 0   Day       12 non-null     int64\n",
      " 1   Sales     12 non-null     int64\n",
      " 2   visitor   12 non-null     int64\n",
      " 3   income    12 non-null     int64\n",
      " 4   expenses  12 non-null     int64\n",
      "dtypes: int64(5)\n",
      "memory usage: 876.0+ bytes\n"
     ]
    }
   ],
   "source": [
    "value.info()"
   ]
  },
  {
   "cell_type": "code",
   "execution_count": 27,
   "id": "4e2a60e6",
   "metadata": {},
   "outputs": [
    {
     "data": {
      "text/plain": [
       "(12, 5)"
      ]
     },
     "execution_count": 27,
     "metadata": {},
     "output_type": "execute_result"
    }
   ],
   "source": [
    "value.shape"
   ]
  },
  {
   "cell_type": "code",
   "execution_count": 28,
   "id": "fe5b3c67",
   "metadata": {},
   "outputs": [
    {
     "data": {
      "text/html": [
       "<div>\n",
       "<style scoped>\n",
       "    .dataframe tbody tr th:only-of-type {\n",
       "        vertical-align: middle;\n",
       "    }\n",
       "\n",
       "    .dataframe tbody tr th {\n",
       "        vertical-align: top;\n",
       "    }\n",
       "\n",
       "    .dataframe thead th {\n",
       "        text-align: right;\n",
       "    }\n",
       "</style>\n",
       "<table border=\"1\" class=\"dataframe\">\n",
       "  <thead>\n",
       "    <tr style=\"text-align: right;\">\n",
       "      <th></th>\n",
       "      <th>Day</th>\n",
       "      <th>Sales</th>\n",
       "      <th>visitor</th>\n",
       "      <th>income</th>\n",
       "      <th>expenses</th>\n",
       "    </tr>\n",
       "  </thead>\n",
       "  <tbody>\n",
       "    <tr>\n",
       "      <th>product a</th>\n",
       "      <td>False</td>\n",
       "      <td>False</td>\n",
       "      <td>False</td>\n",
       "      <td>False</td>\n",
       "      <td>False</td>\n",
       "    </tr>\n",
       "    <tr>\n",
       "      <th>product b</th>\n",
       "      <td>False</td>\n",
       "      <td>False</td>\n",
       "      <td>False</td>\n",
       "      <td>False</td>\n",
       "      <td>False</td>\n",
       "    </tr>\n",
       "    <tr>\n",
       "      <th>product c</th>\n",
       "      <td>False</td>\n",
       "      <td>False</td>\n",
       "      <td>False</td>\n",
       "      <td>False</td>\n",
       "      <td>False</td>\n",
       "    </tr>\n",
       "    <tr>\n",
       "      <th>product d</th>\n",
       "      <td>False</td>\n",
       "      <td>False</td>\n",
       "      <td>False</td>\n",
       "      <td>False</td>\n",
       "      <td>False</td>\n",
       "    </tr>\n",
       "    <tr>\n",
       "      <th>product e</th>\n",
       "      <td>False</td>\n",
       "      <td>False</td>\n",
       "      <td>False</td>\n",
       "      <td>False</td>\n",
       "      <td>False</td>\n",
       "    </tr>\n",
       "    <tr>\n",
       "      <th>product f</th>\n",
       "      <td>False</td>\n",
       "      <td>False</td>\n",
       "      <td>False</td>\n",
       "      <td>False</td>\n",
       "      <td>False</td>\n",
       "    </tr>\n",
       "    <tr>\n",
       "      <th>product g</th>\n",
       "      <td>False</td>\n",
       "      <td>False</td>\n",
       "      <td>False</td>\n",
       "      <td>False</td>\n",
       "      <td>False</td>\n",
       "    </tr>\n",
       "    <tr>\n",
       "      <th>product h</th>\n",
       "      <td>False</td>\n",
       "      <td>False</td>\n",
       "      <td>False</td>\n",
       "      <td>False</td>\n",
       "      <td>False</td>\n",
       "    </tr>\n",
       "    <tr>\n",
       "      <th>product i</th>\n",
       "      <td>False</td>\n",
       "      <td>False</td>\n",
       "      <td>False</td>\n",
       "      <td>False</td>\n",
       "      <td>False</td>\n",
       "    </tr>\n",
       "    <tr>\n",
       "      <th>product j</th>\n",
       "      <td>False</td>\n",
       "      <td>False</td>\n",
       "      <td>False</td>\n",
       "      <td>False</td>\n",
       "      <td>False</td>\n",
       "    </tr>\n",
       "    <tr>\n",
       "      <th>product k</th>\n",
       "      <td>False</td>\n",
       "      <td>False</td>\n",
       "      <td>False</td>\n",
       "      <td>False</td>\n",
       "      <td>False</td>\n",
       "    </tr>\n",
       "    <tr>\n",
       "      <th>product l</th>\n",
       "      <td>False</td>\n",
       "      <td>False</td>\n",
       "      <td>False</td>\n",
       "      <td>False</td>\n",
       "      <td>False</td>\n",
       "    </tr>\n",
       "  </tbody>\n",
       "</table>\n",
       "</div>"
      ],
      "text/plain": [
       "             Day  Sales  visitor  income  expenses\n",
       "product a  False  False    False   False     False\n",
       "product b  False  False    False   False     False\n",
       "product c  False  False    False   False     False\n",
       "product d  False  False    False   False     False\n",
       "product e  False  False    False   False     False\n",
       "product f  False  False    False   False     False\n",
       "product g  False  False    False   False     False\n",
       "product h  False  False    False   False     False\n",
       "product i  False  False    False   False     False\n",
       "product j  False  False    False   False     False\n",
       "product k  False  False    False   False     False\n",
       "product l  False  False    False   False     False"
      ]
     },
     "execution_count": 28,
     "metadata": {},
     "output_type": "execute_result"
    }
   ],
   "source": [
    "value.isnull()"
   ]
  },
  {
   "cell_type": "code",
   "execution_count": 29,
   "id": "0f19cc19",
   "metadata": {},
   "outputs": [
    {
     "data": {
      "text/plain": [
       "Day         False\n",
       "Sales       False\n",
       "visitor     False\n",
       "income      False\n",
       "expenses    False\n",
       "dtype: bool"
      ]
     },
     "execution_count": 29,
     "metadata": {},
     "output_type": "execute_result"
    }
   ],
   "source": [
    "value.isnull().any()"
   ]
  },
  {
   "cell_type": "code",
   "execution_count": 30,
   "id": "e51d6826",
   "metadata": {},
   "outputs": [
    {
     "data": {
      "text/plain": [
       "0"
      ]
     },
     "execution_count": 30,
     "metadata": {},
     "output_type": "execute_result"
    }
   ],
   "source": [
    "value.isnull().any().sum()"
   ]
  },
  {
   "cell_type": "code",
   "execution_count": 32,
   "id": "e655b12f",
   "metadata": {},
   "outputs": [
    {
     "data": {
      "text/plain": [
       "Day         0\n",
       "Sales       0\n",
       "visitor     0\n",
       "income      0\n",
       "expenses    0\n",
       "dtype: int64"
      ]
     },
     "execution_count": 32,
     "metadata": {},
     "output_type": "execute_result"
    }
   ],
   "source": [
    "value.isnull().sum()"
   ]
  },
  {
   "cell_type": "code",
   "execution_count": 36,
   "id": "6ee41dc7",
   "metadata": {},
   "outputs": [],
   "source": [
    "shop=value.to_csv('Sanjana_sweets.csv',index='true')"
   ]
  },
  {
   "cell_type": "code",
   "execution_count": 41,
   "id": "88efb2e5",
   "metadata": {},
   "outputs": [
    {
     "name": "stdout",
     "output_type": "stream",
     "text": [
      "enter the day13\n",
      "enter sales100\n",
      "enter visitor200\n",
      "enter income1000\n",
      "enter expenses1500\n"
     ]
    },
    {
     "data": {
      "text/html": [
       "<div>\n",
       "<style scoped>\n",
       "    .dataframe tbody tr th:only-of-type {\n",
       "        vertical-align: middle;\n",
       "    }\n",
       "\n",
       "    .dataframe tbody tr th {\n",
       "        vertical-align: top;\n",
       "    }\n",
       "\n",
       "    .dataframe thead th {\n",
       "        text-align: right;\n",
       "    }\n",
       "</style>\n",
       "<table border=\"1\" class=\"dataframe\">\n",
       "  <thead>\n",
       "    <tr style=\"text-align: right;\">\n",
       "      <th></th>\n",
       "      <th>Day</th>\n",
       "      <th>Sales</th>\n",
       "      <th>visitor</th>\n",
       "      <th>income</th>\n",
       "      <th>expenses</th>\n",
       "    </tr>\n",
       "  </thead>\n",
       "  <tbody>\n",
       "    <tr>\n",
       "      <th>product a</th>\n",
       "      <td>1</td>\n",
       "      <td>383</td>\n",
       "      <td>202</td>\n",
       "      <td>2000</td>\n",
       "      <td>3000</td>\n",
       "    </tr>\n",
       "    <tr>\n",
       "      <th>product b</th>\n",
       "      <td>2</td>\n",
       "      <td>239</td>\n",
       "      <td>273</td>\n",
       "      <td>2500</td>\n",
       "      <td>6800</td>\n",
       "    </tr>\n",
       "    <tr>\n",
       "      <th>product c</th>\n",
       "      <td>3</td>\n",
       "      <td>249</td>\n",
       "      <td>255</td>\n",
       "      <td>3300</td>\n",
       "      <td>5247</td>\n",
       "    </tr>\n",
       "    <tr>\n",
       "      <th>product d</th>\n",
       "      <td>4</td>\n",
       "      <td>344</td>\n",
       "      <td>247</td>\n",
       "      <td>1900</td>\n",
       "      <td>6745</td>\n",
       "    </tr>\n",
       "    <tr>\n",
       "      <th>product e</th>\n",
       "      <td>5</td>\n",
       "      <td>362</td>\n",
       "      <td>306</td>\n",
       "      <td>2000</td>\n",
       "      <td>1457</td>\n",
       "    </tr>\n",
       "    <tr>\n",
       "      <th>product f</th>\n",
       "      <td>6</td>\n",
       "      <td>265</td>\n",
       "      <td>322</td>\n",
       "      <td>4000</td>\n",
       "      <td>2785</td>\n",
       "    </tr>\n",
       "    <tr>\n",
       "      <th>product g</th>\n",
       "      <td>7</td>\n",
       "      <td>390</td>\n",
       "      <td>224</td>\n",
       "      <td>5600</td>\n",
       "      <td>4897</td>\n",
       "    </tr>\n",
       "    <tr>\n",
       "      <th>product h</th>\n",
       "      <td>8</td>\n",
       "      <td>322</td>\n",
       "      <td>259</td>\n",
       "      <td>2900</td>\n",
       "      <td>3565</td>\n",
       "    </tr>\n",
       "    <tr>\n",
       "      <th>product i</th>\n",
       "      <td>9</td>\n",
       "      <td>252</td>\n",
       "      <td>240</td>\n",
       "      <td>5000</td>\n",
       "      <td>35676</td>\n",
       "    </tr>\n",
       "    <tr>\n",
       "      <th>product j</th>\n",
       "      <td>10</td>\n",
       "      <td>304</td>\n",
       "      <td>216</td>\n",
       "      <td>3000</td>\n",
       "      <td>9877</td>\n",
       "    </tr>\n",
       "    <tr>\n",
       "      <th>product k</th>\n",
       "      <td>11</td>\n",
       "      <td>383</td>\n",
       "      <td>202</td>\n",
       "      <td>2000</td>\n",
       "      <td>3000</td>\n",
       "    </tr>\n",
       "    <tr>\n",
       "      <th>product l</th>\n",
       "      <td>12</td>\n",
       "      <td>239</td>\n",
       "      <td>273</td>\n",
       "      <td>2500</td>\n",
       "      <td>6800</td>\n",
       "    </tr>\n",
       "    <tr>\n",
       "      <th>product m</th>\n",
       "      <td>13</td>\n",
       "      <td>100</td>\n",
       "      <td>200</td>\n",
       "      <td>1000</td>\n",
       "      <td>1500</td>\n",
       "    </tr>\n",
       "    <tr>\n",
       "      <th>product n</th>\n",
       "      <td>13</td>\n",
       "      <td>100</td>\n",
       "      <td>200</td>\n",
       "      <td>1000</td>\n",
       "      <td>1500</td>\n",
       "    </tr>\n",
       "  </tbody>\n",
       "</table>\n",
       "</div>"
      ],
      "text/plain": [
       "          Day Sales visitor income expenses\n",
       "product a   1   383     202   2000     3000\n",
       "product b   2   239     273   2500     6800\n",
       "product c   3   249     255   3300     5247\n",
       "product d   4   344     247   1900     6745\n",
       "product e   5   362     306   2000     1457\n",
       "product f   6   265     322   4000     2785\n",
       "product g   7   390     224   5600     4897\n",
       "product h   8   322     259   2900     3565\n",
       "product i   9   252     240   5000    35676\n",
       "product j  10   304     216   3000     9877\n",
       "product k  11   383     202   2000     3000\n",
       "product l  12   239     273   2500     6800\n",
       "product m  13   100     200   1000     1500\n",
       "product n  13   100     200   1000     1500"
      ]
     },
     "execution_count": 41,
     "metadata": {},
     "output_type": "execute_result"
    }
   ],
   "source": [
    "dat=input('enter the day')\n",
    "sal=input('enter sales')\n",
    "vis=input('enter visitor')\n",
    "inc=input('enter income') \n",
    "exp=input('enter expenses')\n",
    "newval={'Day':[dat],'Sales':[sal],'visitor':[vis],'income':[inc],'expenses':[exp]}\n",
    "newvalue=pd.DataFrame(newval,index=['product m','product n'])\n",
    "value1=value.append(newvalue)\n",
    "value1\n"
   ]
  },
  {
   "cell_type": "code",
   "execution_count": null,
   "id": "ec578784",
   "metadata": {},
   "outputs": [],
   "source": []
  }
 ],
 "metadata": {
  "kernelspec": {
   "display_name": "Python 3 (ipykernel)",
   "language": "python",
   "name": "python3"
  },
  "language_info": {
   "codemirror_mode": {
    "name": "ipython",
    "version": 3
   },
   "file_extension": ".py",
   "mimetype": "text/x-python",
   "name": "python",
   "nbconvert_exporter": "python",
   "pygments_lexer": "ipython3",
   "version": "3.7.4"
  }
 },
 "nbformat": 4,
 "nbformat_minor": 5
}
