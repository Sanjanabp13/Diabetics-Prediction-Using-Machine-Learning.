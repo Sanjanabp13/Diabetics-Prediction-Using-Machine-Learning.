{
 "cells": [
  {
   "cell_type": "code",
   "execution_count": 1,
   "id": "30d9c867",
   "metadata": {},
   "outputs": [],
   "source": [
    "import pickle"
   ]
  },
  {
   "cell_type": "code",
   "execution_count": 2,
   "id": "e245e9a2",
   "metadata": {},
   "outputs": [],
   "source": [
    "model=pickle.load(open(\"diabetes.pkl\",\"rb\"))"
   ]
  },
  {
   "cell_type": "code",
   "execution_count": 3,
   "id": "50e7da82",
   "metadata": {},
   "outputs": [
    {
     "data": {
      "text/plain": [
       "RandomForestClassifier()"
      ]
     },
     "execution_count": 3,
     "metadata": {},
     "output_type": "execute_result"
    }
   ],
   "source": [
    "model"
   ]
  },
  {
   "cell_type": "code",
   "execution_count": 4,
   "id": "db022891",
   "metadata": {},
   "outputs": [
    {
     "name": "stdout",
     "output_type": "stream",
     "text": [
      "Enter Glucose_level : 138\n",
      "Enter BloodPressure_level  : 62\n",
      "Enter SkinThickness_level : 35\n",
      "Enter Insulin_level  : 0\n",
      "Enter BMI_level  : 33.6\n",
      "Enter DiabetesPedigreeFunction_level : 0.127\n",
      "Enter Age_level  : 47\n",
      "91.0  %  1\n",
      "91.0 % it is  Patient may have diabetes\n"
     ]
    },
    {
     "name": "stderr",
     "output_type": "stream",
     "text": [
      "c:\\users\\administrator\\appdata\\local\\programs\\python\\python37\\lib\\site-packages\\sklearn\\base.py:451: UserWarning: X does not have valid feature names, but RandomForestClassifier was fitted with feature names\n",
      "  \"X does not have valid feature names, but\"\n",
      "c:\\users\\administrator\\appdata\\local\\programs\\python\\python37\\lib\\site-packages\\sklearn\\base.py:451: UserWarning: X does not have valid feature names, but RandomForestClassifier was fitted with feature names\n",
      "  \"X does not have valid feature names, but\"\n"
     ]
    }
   ],
   "source": [
    "Glucose=float(input(\"Enter Glucose_level : \"))\n",
    "BloodPressure= float(input(\"Enter BloodPressure_level  : \"))\n",
    "SkinThickness=float(input(\"Enter SkinThickness_level : \"))\n",
    "Insulin= float(input(\"Enter Insulin_level  : \"))\n",
    "BMI= float(input(\"Enter BMI_level  : \"))\n",
    "DiabetesPedigreeFunction=float(input(\"Enter DiabetesPedigreeFunction_level : \"))\n",
    "Age= float(input(\"Enter Age_level  : \"))\n",
    "\n",
    "\n",
    "result=model.predict([[Glucose,BloodPressure,SkinThickness,Insulin,BMI,DiabetesPedigreeFunction,Age]])\n",
    "resultprob=model.predict_proba([[Glucose,BloodPressure,SkinThickness,Insulin,BMI,DiabetesPedigreeFunction,Age]])\n",
    "prob=round(max(resultprob[0])*100,2)\n",
    "print(prob,\" % \",result[0])\n",
    "if result[0]==1:\n",
    "    a='Patient may have diabetes'\n",
    "    print(round(max(resultprob[0])*100,2),'% it is ',a)\n",
    "else:\n",
    "    b='Patient may not have diabetes'\n",
    "    print(round(max(resultprob[0])*100,2),'% it is ',b)"
   ]
  },
  {
   "cell_type": "code",
   "execution_count": null,
   "id": "6c29a876",
   "metadata": {},
   "outputs": [],
   "source": []
  }
 ],
 "metadata": {
  "kernelspec": {
   "display_name": "Python 3 (ipykernel)",
   "language": "python",
   "name": "python3"
  },
  "language_info": {
   "codemirror_mode": {
    "name": "ipython",
    "version": 3
   },
   "file_extension": ".py",
   "mimetype": "text/x-python",
   "name": "python",
   "nbconvert_exporter": "python",
   "pygments_lexer": "ipython3",
   "version": "3.7.4"
  }
 },
 "nbformat": 4,
 "nbformat_minor": 5
}
